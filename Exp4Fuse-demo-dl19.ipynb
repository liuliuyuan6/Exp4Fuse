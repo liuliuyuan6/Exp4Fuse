{
 "cells": [
  {
   "cell_type": "code",
   "execution_count": 1,
   "id": "84bca298-3fb5-4a52-ab31-29150362302f",
   "metadata": {},
   "outputs": [
    {
     "name": "stderr",
     "output_type": "stream",
     "text": [
      "WARNING: Using incubator modules: jdk.incubator.vector\n"
     ]
    }
   ],
   "source": [
    "import json\n",
    "from pyserini.search import FaissSearcher, LuceneSearcher,LuceneImpactSearcher\n",
    "from tqdm import tqdm\n",
    "import numpy as np\n",
    "import random\n",
    "\n",
    "with open('dl19_hy', 'r') as file:\n",
    "    dl19_hy = json.load(file)\n",
    "\n",
    "with open('dl19_topics', 'r') as file:\n",
    "    dl19_topics = json.load(file)"
   ]
  },
  {
   "cell_type": "code",
   "execution_count": 2,
   "id": "0ad11ac1-8d39-403b-9a31-79597eca7070",
   "metadata": {},
   "outputs": [
    {
     "name": "stderr",
     "output_type": "stream",
     "text": [
      "Dec 15, 2024 9:35:36 PM org.apache.lucene.store.MemorySegmentIndexInputProvider <init>\n",
      "INFO: Using MemorySegmentIndexInput with Java 21; to disable start with -Dorg.apache.lucene.store.MMapDirectory.enableMemorySegments=false\n"
     ]
    },
    {
     "name": "stdout",
     "output_type": "stream",
     "text": [
      "WARNING: Using incubator modules: jdk.incubator.vector\n",
      "Downloading https://search.maven.org/remotecontent?filepath=uk/ac/gla/dcs/terrierteam/jtreceval/0.0.5/jtreceval-0.0.5-jar-with-dependencies.jar to /root/.cache/pyserini/eval/jtreceval-0.0.5-jar-with-dependencies.jar...\n",
      "/root/.cache/pyserini/eval/jtreceval-0.0.5-jar-with-dependencies.jar already exists!\n",
      "Skipping download.\n",
      "Running command: ['java', '-jar', '/root/.cache/pyserini/eval/jtreceval-0.0.5-jar-with-dependencies.jar', '-c', '-l', '2', '-m', 'map', '/root/.cache/pyserini/topics-and-qrels/qrels.dl19-passage.txt', 'dl19_bm25']\n",
      "Results:\n",
      "map                   \tall\t0.3013\n",
      "WARNING: Using incubator modules: jdk.incubator.vector\n",
      "Downloading https://search.maven.org/remotecontent?filepath=uk/ac/gla/dcs/terrierteam/jtreceval/0.0.5/jtreceval-0.0.5-jar-with-dependencies.jar to /root/.cache/pyserini/eval/jtreceval-0.0.5-jar-with-dependencies.jar...\n",
      "/root/.cache/pyserini/eval/jtreceval-0.0.5-jar-with-dependencies.jar already exists!\n",
      "Skipping download.\n",
      "Running command: ['java', '-jar', '/root/.cache/pyserini/eval/jtreceval-0.0.5-jar-with-dependencies.jar', '-c', '-m', 'ndcg_cut.10', '/root/.cache/pyserini/topics-and-qrels/qrels.dl19-passage.txt', 'dl19_bm25']\n",
      "Results:\n",
      "ndcg_cut_10           \tall\t0.5058\n",
      "WARNING: Using incubator modules: jdk.incubator.vector\n",
      "Downloading https://search.maven.org/remotecontent?filepath=uk/ac/gla/dcs/terrierteam/jtreceval/0.0.5/jtreceval-0.0.5-jar-with-dependencies.jar to /root/.cache/pyserini/eval/jtreceval-0.0.5-jar-with-dependencies.jar...\n",
      "/root/.cache/pyserini/eval/jtreceval-0.0.5-jar-with-dependencies.jar already exists!\n",
      "Skipping download.\n",
      "Running command: ['java', '-jar', '/root/.cache/pyserini/eval/jtreceval-0.0.5-jar-with-dependencies.jar', '-c', '-l', '2', '-m', 'recall.1000', '/root/.cache/pyserini/topics-and-qrels/qrels.dl19-passage.txt', 'dl19_bm25']\n",
      "Results:\n",
      "recall_1000           \tall\t0.7501\n"
     ]
    }
   ],
   "source": [
    "#0.0 bm25\n",
    "\n",
    "searcher = LuceneSearcher.from_prebuilt_index('msmarco-v1-passage')\n",
    "\n",
    "with open('dl19_bm25', 'w')  as f:\n",
    "    for i in range(len(dl19_topics)):\n",
    "        qid=dl19_topics[i][0]\n",
    "        question=dl19_topics[i][1]\n",
    "        hits = searcher.search(question, k=1000)\n",
    "        rank = 0\n",
    "        for hit in hits:\n",
    "            rank += 1\n",
    "            f.write(f'{qid} Q0 {hit.docid} {rank} {hit.score} rank\\n')\n",
    "\n",
    "!python -m pyserini.eval.trec_eval -c -l 2 -m map dl19-passage dl19_bm25\n",
    "!python -m pyserini.eval.trec_eval -c -m ndcg_cut.10 dl19-passage dl19_bm25\n",
    "!python -m pyserini.eval.trec_eval -c -l 2 -m recall.1000 dl19-passage dl19_bm25"
   ]
  },
  {
   "cell_type": "code",
   "execution_count": 3,
   "id": "177a9e9d-01ad-4f60-af77-b12efe33f116",
   "metadata": {},
   "outputs": [
    {
     "name": "stdout",
     "output_type": "stream",
     "text": [
      "WARNING: Using incubator modules: jdk.incubator.vector\n",
      "Downloading https://search.maven.org/remotecontent?filepath=uk/ac/gla/dcs/terrierteam/jtreceval/0.0.5/jtreceval-0.0.5-jar-with-dependencies.jar to /root/.cache/pyserini/eval/jtreceval-0.0.5-jar-with-dependencies.jar...\n",
      "/root/.cache/pyserini/eval/jtreceval-0.0.5-jar-with-dependencies.jar already exists!\n",
      "Skipping download.\n",
      "Running command: ['java', '-jar', '/root/.cache/pyserini/eval/jtreceval-0.0.5-jar-with-dependencies.jar', '-c', '-l', '2', '-m', 'map', '/root/.cache/pyserini/topics-and-qrels/qrels.dl19-passage.txt', 'dl19_bm25_Exp4Fuse']\n",
      "Results:\n",
      "map                   \tall\t0.3871\n",
      "WARNING: Using incubator modules: jdk.incubator.vector\n",
      "Downloading https://search.maven.org/remotecontent?filepath=uk/ac/gla/dcs/terrierteam/jtreceval/0.0.5/jtreceval-0.0.5-jar-with-dependencies.jar to /root/.cache/pyserini/eval/jtreceval-0.0.5-jar-with-dependencies.jar...\n",
      "/root/.cache/pyserini/eval/jtreceval-0.0.5-jar-with-dependencies.jar already exists!\n",
      "Skipping download.\n",
      "Running command: ['java', '-jar', '/root/.cache/pyserini/eval/jtreceval-0.0.5-jar-with-dependencies.jar', '-c', '-m', 'ndcg_cut.10', '/root/.cache/pyserini/topics-and-qrels/qrels.dl19-passage.txt', 'dl19_bm25_Exp4Fuse']\n",
      "Results:\n",
      "ndcg_cut_10           \tall\t0.6199\n",
      "WARNING: Using incubator modules: jdk.incubator.vector\n",
      "Downloading https://search.maven.org/remotecontent?filepath=uk/ac/gla/dcs/terrierteam/jtreceval/0.0.5/jtreceval-0.0.5-jar-with-dependencies.jar to /root/.cache/pyserini/eval/jtreceval-0.0.5-jar-with-dependencies.jar...\n",
      "/root/.cache/pyserini/eval/jtreceval-0.0.5-jar-with-dependencies.jar already exists!\n",
      "Skipping download.\n",
      "Running command: ['java', '-jar', '/root/.cache/pyserini/eval/jtreceval-0.0.5-jar-with-dependencies.jar', '-c', '-l', '2', '-m', 'recall.1000', '/root/.cache/pyserini/topics-and-qrels/qrels.dl19-passage.txt', 'dl19_bm25_Exp4Fuse']\n",
      "Results:\n",
      "recall_1000           \tall\t0.8701\n"
     ]
    }
   ],
   "source": [
    "#0.1 Bm25+Exp4Fuse \n",
    "searcher = LuceneSearcher.from_prebuilt_index('msmarco-v1-passage')\n",
    "\n",
    "with open('dl19_bm25_hy', 'w')  as f:\n",
    "    for i in range(len(dl19_hy)):\n",
    "        qid=dl19_hy[i][0]\n",
    "        question=dl19_hy[i][1]+'.'\n",
    "        question=question*5\n",
    "        question=question+dl19_hy[i][2]\n",
    "        hits = searcher.search(question, k=1000)\n",
    "        rank = 0\n",
    "        for hit in hits:\n",
    "            rank += 1\n",
    "            f.write(f'{qid} Q0 {hit.docid} {rank} {hit.score} rank\\n')\n",
    "\n",
    "\n",
    "with open('dl19_bm25_hy', 'r') as file:\n",
    "    hy1 = file.readlines()      \n",
    "hy=[[int(x.split()[0]),x.split()[1],int(x.split()[2]),int(x.split()[3]),x.split()[4],x.split()[5]] for x in hy1]\n",
    "\n",
    "with open('dl19_bm25', 'r') as file:\n",
    "    ori1 = file.readlines()\n",
    "ori=[[int(x.split()[0]),x.split()[1],int(x.split()[2]),int(x.split()[3]),x.split()[4],x.split()[5]] for x in ori1]\n",
    "\n",
    "ratio=60\n",
    "\n",
    "with open('dl19_bm25_Exp4Fuse', 'w')  as f:\n",
    "    for i in range(len(dl19_topics)):\n",
    "        dictTem={}\n",
    "        for j in range(len(hy)):\n",
    "            if dl19_topics[i][0]==hy[j][0]:\n",
    "                try:\n",
    "                    dictTem[hy[j][2]]['score1']=1/(ratio+hy[j][3])\n",
    "                except KeyError:\n",
    "                    dictTem[hy[j][2]]={}\n",
    "                    dictTem[hy[j][2]]['score1']=1/(ratio+hy[j][3])              \n",
    "        for j in range(len(ori)):\n",
    "            if dl19_topics[i][0]==ori[j][0]:\n",
    "                try:\n",
    "                    dictTem[ori[j][2]]['score3']=1/(ratio+ori[j][3])\n",
    "                except KeyError:\n",
    "                    dictTem[ori[j][2]]={}\n",
    "                    dictTem[ori[j][2]]['score3']=1/(ratio+ori[j][3])  \n",
    "        for passage in dictTem.keys():\n",
    "            num=len(dictTem[passage])/10+1\n",
    "            score_sum=0\n",
    "            for scores in dictTem[passage].keys():\n",
    "                score_sum+=dictTem[passage][scores]\n",
    "            dictTem[passage]=num*score_sum\n",
    "        rank=0\n",
    "        for key, value in sorted(dictTem.items(), key=lambda item: item[1],reverse=True):   \n",
    "            rank+=1\n",
    "            if rank<=1000:\n",
    "                passageinfo=[dl19_hy[i][0],'Q0',key,rank,value,'rank']\n",
    "                topicnum=dl19_topics[i][0]\n",
    "                f.write(f'{topicnum} Q0 {key} {rank} {value} rank\\n')\n",
    "\n",
    "!python -m pyserini.eval.trec_eval -c -l 2 -m map dl19-passage dl19_bm25_Exp4Fuse\n",
    "!python -m pyserini.eval.trec_eval -c -m ndcg_cut.10 dl19-passage dl19_bm25_Exp4Fuse\n",
    "!python -m pyserini.eval.trec_eval -c -l 2 -m recall.1000 dl19-passage dl19_bm25_Exp4Fuse"
   ]
  },
  {
   "cell_type": "code",
   "execution_count": 4,
   "id": "096b00c2-dcd9-491f-8ea0-40b07b0383a8",
   "metadata": {},
   "outputs": [
    {
     "name": "stdout",
     "output_type": "stream",
     "text": [
      "WARNING: Using incubator modules: jdk.incubator.vector\n",
      "Downloading https://search.maven.org/remotecontent?filepath=uk/ac/gla/dcs/terrierteam/jtreceval/0.0.5/jtreceval-0.0.5-jar-with-dependencies.jar to /root/.cache/pyserini/eval/jtreceval-0.0.5-jar-with-dependencies.jar...\n",
      "/root/.cache/pyserini/eval/jtreceval-0.0.5-jar-with-dependencies.jar already exists!\n",
      "Skipping download.\n",
      "Running command: ['java', '-jar', '/root/.cache/pyserini/eval/jtreceval-0.0.5-jar-with-dependencies.jar', '-c', '-l', '2', '-m', 'map', '/root/.cache/pyserini/topics-and-qrels/qrels.dl19-passage.txt', 'dl19_d2q']\n",
      "Results:\n",
      "map                   \tall\t0.4034\n",
      "WARNING: Using incubator modules: jdk.incubator.vector\n",
      "Downloading https://search.maven.org/remotecontent?filepath=uk/ac/gla/dcs/terrierteam/jtreceval/0.0.5/jtreceval-0.0.5-jar-with-dependencies.jar to /root/.cache/pyserini/eval/jtreceval-0.0.5-jar-with-dependencies.jar...\n",
      "/root/.cache/pyserini/eval/jtreceval-0.0.5-jar-with-dependencies.jar already exists!\n",
      "Skipping download.\n",
      "Running command: ['java', '-jar', '/root/.cache/pyserini/eval/jtreceval-0.0.5-jar-with-dependencies.jar', '-c', '-m', 'ndcg_cut.10', '/root/.cache/pyserini/topics-and-qrels/qrels.dl19-passage.txt', 'dl19_d2q']\n",
      "Results:\n",
      "ndcg_cut_10           \tall\t0.6417\n",
      "WARNING: Using incubator modules: jdk.incubator.vector\n",
      "Downloading https://search.maven.org/remotecontent?filepath=uk/ac/gla/dcs/terrierteam/jtreceval/0.0.5/jtreceval-0.0.5-jar-with-dependencies.jar to /root/.cache/pyserini/eval/jtreceval-0.0.5-jar-with-dependencies.jar...\n",
      "/root/.cache/pyserini/eval/jtreceval-0.0.5-jar-with-dependencies.jar already exists!\n",
      "Skipping download.\n",
      "Running command: ['java', '-jar', '/root/.cache/pyserini/eval/jtreceval-0.0.5-jar-with-dependencies.jar', '-c', '-l', '2', '-m', 'recall.1000', '/root/.cache/pyserini/topics-and-qrels/qrels.dl19-passage.txt', 'dl19_d2q']\n",
      "Results:\n",
      "recall_1000           \tall\t0.8310\n"
     ]
    }
   ],
   "source": [
    "#1.0 docT5query\n",
    "\n",
    "searcher = LuceneSearcher('autodl-tmp/d2q-t5')\n",
    "\n",
    "with open('dl19_d2q', 'w')  as f:\n",
    "    for i in range(len(dl19_topics)):\n",
    "        qid=dl19_topics[i][0]\n",
    "        question=dl19_topics[i][1]\n",
    "        hits = searcher.search(question, k=1000)\n",
    "        rank = 0\n",
    "        for hit in hits:\n",
    "            rank += 1\n",
    "            f.write(f'{qid} Q0 {hit.docid} {rank} {hit.score} rank\\n')\n",
    "\n",
    "!python -m pyserini.eval.trec_eval -c -l 2 -m map dl19-passage dl19_d2q\n",
    "!python -m pyserini.eval.trec_eval -c -m ndcg_cut.10 dl19-passage dl19_d2q\n",
    "!python -m pyserini.eval.trec_eval -c -l 2 -m recall.1000 dl19-passage dl19_d2q"
   ]
  },
  {
   "cell_type": "code",
   "execution_count": 5,
   "id": "9596c17c-a8c2-4168-a093-94ad80dc4e3b",
   "metadata": {},
   "outputs": [
    {
     "name": "stdout",
     "output_type": "stream",
     "text": [
      "WARNING: Using incubator modules: jdk.incubator.vector\n",
      "Downloading https://search.maven.org/remotecontent?filepath=uk/ac/gla/dcs/terrierteam/jtreceval/0.0.5/jtreceval-0.0.5-jar-with-dependencies.jar to /root/.cache/pyserini/eval/jtreceval-0.0.5-jar-with-dependencies.jar...\n",
      "/root/.cache/pyserini/eval/jtreceval-0.0.5-jar-with-dependencies.jar already exists!\n",
      "Skipping download.\n",
      "Running command: ['java', '-jar', '/root/.cache/pyserini/eval/jtreceval-0.0.5-jar-with-dependencies.jar', '-c', '-l', '2', '-m', 'map', '/root/.cache/pyserini/topics-and-qrels/qrels.dl19-passage.txt', 'dl19_d2q_Exp4Fuse']\n",
      "Results:\n",
      "map                   \tall\t0.4749\n",
      "WARNING: Using incubator modules: jdk.incubator.vector\n",
      "Downloading https://search.maven.org/remotecontent?filepath=uk/ac/gla/dcs/terrierteam/jtreceval/0.0.5/jtreceval-0.0.5-jar-with-dependencies.jar to /root/.cache/pyserini/eval/jtreceval-0.0.5-jar-with-dependencies.jar...\n",
      "/root/.cache/pyserini/eval/jtreceval-0.0.5-jar-with-dependencies.jar already exists!\n",
      "Skipping download.\n",
      "Running command: ['java', '-jar', '/root/.cache/pyserini/eval/jtreceval-0.0.5-jar-with-dependencies.jar', '-c', '-m', 'ndcg_cut.10', '/root/.cache/pyserini/topics-and-qrels/qrels.dl19-passage.txt', 'dl19_d2q_Exp4Fuse']\n",
      "Results:\n",
      "ndcg_cut_10           \tall\t0.6854\n",
      "WARNING: Using incubator modules: jdk.incubator.vector\n",
      "Downloading https://search.maven.org/remotecontent?filepath=uk/ac/gla/dcs/terrierteam/jtreceval/0.0.5/jtreceval-0.0.5-jar-with-dependencies.jar to /root/.cache/pyserini/eval/jtreceval-0.0.5-jar-with-dependencies.jar...\n",
      "/root/.cache/pyserini/eval/jtreceval-0.0.5-jar-with-dependencies.jar already exists!\n",
      "Skipping download.\n",
      "Running command: ['java', '-jar', '/root/.cache/pyserini/eval/jtreceval-0.0.5-jar-with-dependencies.jar', '-c', '-l', '2', '-m', 'recall.1000', '/root/.cache/pyserini/topics-and-qrels/qrels.dl19-passage.txt', 'dl19_d2q_Exp4Fuse']\n",
      "Results:\n",
      "recall_1000           \tall\t0.8781\n"
     ]
    }
   ],
   "source": [
    "#1.1 docT5query+Exp4Fuse\n",
    "searcher = LuceneSearcher('autodl-tmp/d2q-t5')\n",
    "\n",
    "with open('dl19_d2q_hy', 'w')  as f:\n",
    "    for i in range(len(dl19_hy)):\n",
    "        qid=dl19_hy[i][0]\n",
    "        question=dl19_hy[i][1]+'.'\n",
    "        question=question*5\n",
    "        question=question+dl19_hy[i][2]\n",
    "        hits = searcher.search(question, k=1000)\n",
    "        rank = 0\n",
    "        for hit in hits:\n",
    "            rank += 1\n",
    "            f.write(f'{qid} Q0 {hit.docid} {rank} {hit.score} rank\\n')\n",
    "    \n",
    "with open('dl19_d2q_hy', 'r') as file:\n",
    "    hy1 = file.readlines()\n",
    "hy=[[int(x.split()[0]),x.split()[1],int(x.split()[2]),int(x.split()[3]),x.split()[4],x.split()[5]] for x in hy1]\n",
    "\n",
    "\n",
    "with open('dl19_d2q', 'r') as file:\n",
    "    ori1 = file.readlines()\n",
    "ori=[[int(x.split()[0]),x.split()[1],int(x.split()[2]),int(x.split()[3]),x.split()[4],x.split()[5]] for x in ori1]\n",
    "\n",
    "\n",
    "with open('dl19_d2q_Exp4Fuse', 'w')  as f:\n",
    "    for i in range(len(dl19_topics)):\n",
    "        dictTem={}\n",
    "        for j in range(len(hy)):\n",
    "            if dl19_topics[i][0]==hy[j][0]:\n",
    "                try:\n",
    "                    dictTem[hy[j][2]]['score1']=1/(ratio+hy[j][3])\n",
    "                except KeyError:\n",
    "                    dictTem[hy[j][2]]={}\n",
    "                    dictTem[hy[j][2]]['score1']=1/(ratio+hy[j][3])               \n",
    "        for j in range(len(ori)):\n",
    "            if dl19_topics[i][0]==ori[j][0]:\n",
    "                try:\n",
    "                    dictTem[ori[j][2]]['score3']=1/(ratio+ori[j][3])\n",
    "                except KeyError:\n",
    "                    dictTem[ori[j][2]]={}\n",
    "                    dictTem[ori[j][2]]['score3']=1/(ratio+ori[j][3])  \n",
    "        for passage in dictTem.keys():\n",
    "            num=len(dictTem[passage])/10+1\n",
    "            score_sum=0\n",
    "            for scores in dictTem[passage].keys():\n",
    "                score_sum+=dictTem[passage][scores]\n",
    "            dictTem[passage]=num*score_sum\n",
    "        rank=0\n",
    "        for key, value in sorted(dictTem.items(), key=lambda item: item[1],reverse=True):   \n",
    "            rank+=1\n",
    "            if rank<=1000:\n",
    "                passageinfo=[dl19_hy[i][0],'Q0',key,rank,value,'rank']\n",
    "                topicnum=dl19_topics[i][0]\n",
    "                f.write(f'{topicnum} Q0 {key} {rank} {value} rank\\n')\n",
    "\n",
    "!python -m pyserini.eval.trec_eval -c -l 2 -m map dl19-passage dl19_d2q_Exp4Fuse\n",
    "!python -m pyserini.eval.trec_eval -c -m ndcg_cut.10 dl19-passage dl19_d2q_Exp4Fuse\n",
    "!python -m pyserini.eval.trec_eval -c -l 2 -m recall.1000 dl19-passage dl19_d2q_Exp4Fuse\n",
    "   "
   ]
  },
  {
   "cell_type": "code",
   "execution_count": 6,
   "id": "394f7abb-2add-463f-bf08-fa375fcea72c",
   "metadata": {},
   "outputs": [
    {
     "name": "stderr",
     "output_type": "stream",
     "text": [
      "/root/miniconda3/lib/python3.10/site-packages/torch/_utils.py:831: UserWarning: TypedStorage is deprecated. It will be removed in the future and UntypedStorage will be the only storage class. This should only matter to you if you are using storages directly.  To access UntypedStorage directly, use tensor.untyped_storage() instead of tensor.storage()\n",
      "  return self.fget.__get__(instance, owner)()\n",
      "/root/miniconda3/lib/python3.10/site-packages/transformers/tokenization_utils_base.py:1601: FutureWarning: `clean_up_tokenization_spaces` was not set. It will be set to `True` by default. This behavior will be depracted in transformers v4.45, and will be then set to `False` by default. For more details check this issue: https://github.com/huggingface/transformers/issues/31884\n",
      "  warnings.warn(\n"
     ]
    },
    {
     "name": "stdout",
     "output_type": "stream",
     "text": [
      "WARNING: Using incubator modules: jdk.incubator.vector\n",
      "Downloading https://search.maven.org/remotecontent?filepath=uk/ac/gla/dcs/terrierteam/jtreceval/0.0.5/jtreceval-0.0.5-jar-with-dependencies.jar to /root/.cache/pyserini/eval/jtreceval-0.0.5-jar-with-dependencies.jar...\n",
      "/root/.cache/pyserini/eval/jtreceval-0.0.5-jar-with-dependencies.jar already exists!\n",
      "Skipping download.\n",
      "Running command: ['java', '-jar', '/root/.cache/pyserini/eval/jtreceval-0.0.5-jar-with-dependencies.jar', '-c', '-l', '2', '-m', 'map', '/root/.cache/pyserini/topics-and-qrels/qrels.dl19-passage.txt', 'dl19_unicoil']\n",
      "Results:\n",
      "map                   \tall\t0.4612\n",
      "WARNING: Using incubator modules: jdk.incubator.vector\n",
      "Downloading https://search.maven.org/remotecontent?filepath=uk/ac/gla/dcs/terrierteam/jtreceval/0.0.5/jtreceval-0.0.5-jar-with-dependencies.jar to /root/.cache/pyserini/eval/jtreceval-0.0.5-jar-with-dependencies.jar...\n",
      "/root/.cache/pyserini/eval/jtreceval-0.0.5-jar-with-dependencies.jar already exists!\n",
      "Skipping download.\n",
      "Running command: ['java', '-jar', '/root/.cache/pyserini/eval/jtreceval-0.0.5-jar-with-dependencies.jar', '-c', '-m', 'ndcg_cut.10', '/root/.cache/pyserini/topics-and-qrels/qrels.dl19-passage.txt', 'dl19_unicoil']\n",
      "Results:\n",
      "ndcg_cut_10           \tall\t0.7024\n",
      "WARNING: Using incubator modules: jdk.incubator.vector\n",
      "Downloading https://search.maven.org/remotecontent?filepath=uk/ac/gla/dcs/terrierteam/jtreceval/0.0.5/jtreceval-0.0.5-jar-with-dependencies.jar to /root/.cache/pyserini/eval/jtreceval-0.0.5-jar-with-dependencies.jar...\n",
      "/root/.cache/pyserini/eval/jtreceval-0.0.5-jar-with-dependencies.jar already exists!\n",
      "Skipping download.\n",
      "Running command: ['java', '-jar', '/root/.cache/pyserini/eval/jtreceval-0.0.5-jar-with-dependencies.jar', '-c', '-l', '2', '-m', 'recall.1000', '/root/.cache/pyserini/topics-and-qrels/qrels.dl19-passage.txt', 'dl19_unicoil']\n",
      "Results:\n",
      "recall_1000           \tall\t0.8292\n"
     ]
    }
   ],
   "source": [
    "#2.0 unicoil\n",
    "\n",
    "searcher = LuceneImpactSearcher('autodl-tmp/msmarco-v1-passage.unicoil','autodl-tmp/unicoil-msmarco-passage')\n",
    "\n",
    "with open('dl19_unicoil', 'w')  as f:\n",
    "    for i in range(len(dl19_topics)):\n",
    "        qid=dl19_topics[i][0]\n",
    "        question=dl19_topics[i][1]\n",
    "        hits = searcher.search(question, k=1000)\n",
    "        rank = 0\n",
    "        for hit in hits:\n",
    "            rank += 1\n",
    "            f.write(f'{qid} Q0 {hit.docid} {rank} {hit.score} rank\\n')\n",
    "\n",
    "!python -m pyserini.eval.trec_eval -c -l 2 -m map dl19-passage dl19_unicoil\n",
    "!python -m pyserini.eval.trec_eval -c -m ndcg_cut.10 dl19-passage dl19_unicoil\n",
    "!python -m pyserini.eval.trec_eval -c -l 2 -m recall.1000 dl19-passage dl19_unicoil"
   ]
  },
  {
   "cell_type": "code",
   "execution_count": 7,
   "id": "ff831a96-8753-40fe-b466-cadf32a7c690",
   "metadata": {},
   "outputs": [
    {
     "name": "stdout",
     "output_type": "stream",
     "text": [
      "WARNING: Using incubator modules: jdk.incubator.vector\n",
      "Downloading https://search.maven.org/remotecontent?filepath=uk/ac/gla/dcs/terrierteam/jtreceval/0.0.5/jtreceval-0.0.5-jar-with-dependencies.jar to /root/.cache/pyserini/eval/jtreceval-0.0.5-jar-with-dependencies.jar...\n",
      "/root/.cache/pyserini/eval/jtreceval-0.0.5-jar-with-dependencies.jar already exists!\n",
      "Skipping download.\n",
      "Running command: ['java', '-jar', '/root/.cache/pyserini/eval/jtreceval-0.0.5-jar-with-dependencies.jar', '-c', '-l', '2', '-m', 'map', '/root/.cache/pyserini/topics-and-qrels/qrels.dl19-passage.txt', 'dl19_unicoil_Exp4Fuse']\n",
      "Results:\n",
      "map                   \tall\t0.5007\n",
      "WARNING: Using incubator modules: jdk.incubator.vector\n",
      "Downloading https://search.maven.org/remotecontent?filepath=uk/ac/gla/dcs/terrierteam/jtreceval/0.0.5/jtreceval-0.0.5-jar-with-dependencies.jar to /root/.cache/pyserini/eval/jtreceval-0.0.5-jar-with-dependencies.jar...\n",
      "/root/.cache/pyserini/eval/jtreceval-0.0.5-jar-with-dependencies.jar already exists!\n",
      "Skipping download.\n",
      "Running command: ['java', '-jar', '/root/.cache/pyserini/eval/jtreceval-0.0.5-jar-with-dependencies.jar', '-c', '-m', 'ndcg_cut.10', '/root/.cache/pyserini/topics-and-qrels/qrels.dl19-passage.txt', 'dl19_unicoil_Exp4Fuse']\n",
      "Results:\n",
      "ndcg_cut_10           \tall\t0.7352\n",
      "WARNING: Using incubator modules: jdk.incubator.vector\n",
      "Downloading https://search.maven.org/remotecontent?filepath=uk/ac/gla/dcs/terrierteam/jtreceval/0.0.5/jtreceval-0.0.5-jar-with-dependencies.jar to /root/.cache/pyserini/eval/jtreceval-0.0.5-jar-with-dependencies.jar...\n",
      "/root/.cache/pyserini/eval/jtreceval-0.0.5-jar-with-dependencies.jar already exists!\n",
      "Skipping download.\n",
      "Running command: ['java', '-jar', '/root/.cache/pyserini/eval/jtreceval-0.0.5-jar-with-dependencies.jar', '-c', '-l', '2', '-m', 'recall.1000', '/root/.cache/pyserini/topics-and-qrels/qrels.dl19-passage.txt', 'dl19_unicoil_Exp4Fuse']\n",
      "Results:\n",
      "recall_1000           \tall\t0.8662\n"
     ]
    }
   ],
   "source": [
    "#2.1 unicoil +Exp4Fuse\n",
    "searcher = LuceneImpactSearcher('autodl-tmp/msmarco-v1-passage.unicoil','autodl-tmp/unicoil-msmarco-passage')\n",
    "\n",
    "with open('dl19_unicoil_hy', 'w')  as f:\n",
    "    for i in range(len(dl19_hy)):\n",
    "        qid=dl19_hy[i][0]\n",
    "        question=dl19_hy[i][1]+'.'\n",
    "        question=question*5\n",
    "        question=question+dl19_hy[i][2]\n",
    "        hits = searcher.search(question, k=1000)\n",
    "        rank = 0\n",
    "        for hit in hits:\n",
    "            rank += 1\n",
    "            f.write(f'{qid} Q0 {hit.docid} {rank} {hit.score} rank\\n')\n",
    "\n",
    "with open('dl19_unicoil_hy', 'r') as file:\n",
    "    hy1 = file.readlines()      \n",
    "hy=[[int(x.split()[0]),x.split()[1],int(x.split()[2]),int(x.split()[3]),x.split()[4],x.split()[5]] for x in hy1]\n",
    "\n",
    "with open('dl19_unicoil', 'r') as file:\n",
    "    ori1 = file.readlines()\n",
    "ori=[[int(x.split()[0]),x.split()[1],int(x.split()[2]),int(x.split()[3]),x.split()[4],x.split()[5]] for x in ori1]\n",
    "\n",
    "\n",
    "with open('dl19_unicoil_Exp4Fuse', 'w')  as f:\n",
    "    for i in range(len(dl19_topics)):\n",
    "        dictTem={}\n",
    "        for j in range(len(hy)):\n",
    "            if dl19_topics[i][0]==hy[j][0]:\n",
    "                try:\n",
    "                    dictTem[hy[j][2]]['score1']=1/(ratio+hy[j][3])\n",
    "                except KeyError:\n",
    "                    dictTem[hy[j][2]]={}\n",
    "                    dictTem[hy[j][2]]['score1']=1/(ratio+hy[j][3])             \n",
    "        for j in range(len(ori)):\n",
    "            if dl19_topics[i][0]==ori[j][0]:\n",
    "                try:\n",
    "                    dictTem[ori[j][2]]['score3']=1/(ratio+ori[j][3])\n",
    "                except KeyError:\n",
    "                    dictTem[ori[j][2]]={}\n",
    "                    dictTem[ori[j][2]]['score3']=1/(ratio+ori[j][3])  \n",
    "        for passage in dictTem.keys():\n",
    "            num=len(dictTem[passage])/10+1\n",
    "            score_sum=0\n",
    "            for scores in dictTem[passage].keys():\n",
    "                score_sum+=dictTem[passage][scores]\n",
    "            dictTem[passage]=num*score_sum\n",
    "        rank=0\n",
    "        for key, value in sorted(dictTem.items(), key=lambda item: item[1],reverse=True):   \n",
    "            rank+=1\n",
    "            if rank<=1000:\n",
    "                topicnum=dl19_topics[i][0]\n",
    "                f.write(f'{topicnum} Q0 {key} {rank} {value} rank\\n')\n",
    "\n",
    "!python -m pyserini.eval.trec_eval -c -l 2 -m map dl19-passage dl19_unicoil_Exp4Fuse\n",
    "!python -m pyserini.eval.trec_eval -c -m ndcg_cut.10 dl19-passage dl19_unicoil_Exp4Fuse\n",
    "!python -m pyserini.eval.trec_eval -c -l 2 -m recall.1000 dl19-passage dl19_unicoil_Exp4Fuse\n",
    "   \n"
   ]
  },
  {
   "cell_type": "code",
   "execution_count": 2,
   "id": "75556748-7249-4969-8c9e-82dabbc74c3c",
   "metadata": {},
   "outputs": [
    {
     "name": "stderr",
     "output_type": "stream",
     "text": [
      "Dec 15, 2024 9:43:40 PM org.apache.lucene.store.MemorySegmentIndexInputProvider <init>\n",
      "INFO: Using MemorySegmentIndexInput with Java 21; to disable start with -Dorg.apache.lucene.store.MMapDirectory.enableMemorySegments=false\n",
      "/root/miniconda3/lib/python3.10/site-packages/torch/_utils.py:831: UserWarning: TypedStorage is deprecated. It will be removed in the future and UntypedStorage will be the only storage class. This should only matter to you if you are using storages directly.  To access UntypedStorage directly, use tensor.untyped_storage() instead of tensor.storage()\n",
      "  return self.fget.__get__(instance, owner)()\n",
      "/root/miniconda3/lib/python3.10/site-packages/transformers/tokenization_utils_base.py:1601: FutureWarning: `clean_up_tokenization_spaces` was not set. It will be set to `True` by default. This behavior will be depracted in transformers v4.45, and will be then set to `False` by default. For more details check this issue: https://github.com/huggingface/transformers/issues/31884\n",
      "  warnings.warn(\n",
      "huggingface/tokenizers: The current process just got forked, after parallelism has already been used. Disabling parallelism to avoid deadlocks...\n",
      "To disable this warning, you can either:\n",
      "\t- Avoid using `tokenizers` before the fork if possible\n",
      "\t- Explicitly set the environment variable TOKENIZERS_PARALLELISM=(true | false)\n"
     ]
    },
    {
     "name": "stdout",
     "output_type": "stream",
     "text": [
      "WARNING: Using incubator modules: jdk.incubator.vector\n",
      "Downloading https://search.maven.org/remotecontent?filepath=uk/ac/gla/dcs/terrierteam/jtreceval/0.0.5/jtreceval-0.0.5-jar-with-dependencies.jar to /root/.cache/pyserini/eval/jtreceval-0.0.5-jar-with-dependencies.jar...\n",
      "/root/.cache/pyserini/eval/jtreceval-0.0.5-jar-with-dependencies.jar already exists!\n",
      "Skipping download.\n",
      "Running command: ['java', '-jar', '/root/.cache/pyserini/eval/jtreceval-0.0.5-jar-with-dependencies.jar', '-c', '-l', '2', '-m', 'map', '/root/.cache/pyserini/topics-and-qrels/qrels.dl19-passage.txt', 'dl19_slimrpp']\n",
      "Results:\n",
      "map                   \tall\t0.4828\n"
     ]
    },
    {
     "name": "stderr",
     "output_type": "stream",
     "text": [
      "huggingface/tokenizers: The current process just got forked, after parallelism has already been used. Disabling parallelism to avoid deadlocks...\n",
      "To disable this warning, you can either:\n",
      "\t- Avoid using `tokenizers` before the fork if possible\n",
      "\t- Explicitly set the environment variable TOKENIZERS_PARALLELISM=(true | false)\n"
     ]
    },
    {
     "name": "stdout",
     "output_type": "stream",
     "text": [
      "WARNING: Using incubator modules: jdk.incubator.vector\n",
      "Downloading https://search.maven.org/remotecontent?filepath=uk/ac/gla/dcs/terrierteam/jtreceval/0.0.5/jtreceval-0.0.5-jar-with-dependencies.jar to /root/.cache/pyserini/eval/jtreceval-0.0.5-jar-with-dependencies.jar...\n",
      "/root/.cache/pyserini/eval/jtreceval-0.0.5-jar-with-dependencies.jar already exists!\n",
      "Skipping download.\n",
      "Running command: ['java', '-jar', '/root/.cache/pyserini/eval/jtreceval-0.0.5-jar-with-dependencies.jar', '-c', '-m', 'ndcg_cut.10', '/root/.cache/pyserini/topics-and-qrels/qrels.dl19-passage.txt', 'dl19_slimrpp']\n",
      "Results:\n",
      "ndcg_cut_10           \tall\t0.7245\n"
     ]
    },
    {
     "name": "stderr",
     "output_type": "stream",
     "text": [
      "huggingface/tokenizers: The current process just got forked, after parallelism has already been used. Disabling parallelism to avoid deadlocks...\n",
      "To disable this warning, you can either:\n",
      "\t- Avoid using `tokenizers` before the fork if possible\n",
      "\t- Explicitly set the environment variable TOKENIZERS_PARALLELISM=(true | false)\n"
     ]
    },
    {
     "name": "stdout",
     "output_type": "stream",
     "text": [
      "WARNING: Using incubator modules: jdk.incubator.vector\n",
      "Downloading https://search.maven.org/remotecontent?filepath=uk/ac/gla/dcs/terrierteam/jtreceval/0.0.5/jtreceval-0.0.5-jar-with-dependencies.jar to /root/.cache/pyserini/eval/jtreceval-0.0.5-jar-with-dependencies.jar...\n",
      "/root/.cache/pyserini/eval/jtreceval-0.0.5-jar-with-dependencies.jar already exists!\n",
      "Skipping download.\n",
      "Running command: ['java', '-jar', '/root/.cache/pyserini/eval/jtreceval-0.0.5-jar-with-dependencies.jar', '-c', '-l', '2', '-m', 'recall.1000', '/root/.cache/pyserini/topics-and-qrels/qrels.dl19-passage.txt', 'dl19_slimrpp']\n",
      "Results:\n",
      "recall_1000           \tall\t0.8681\n"
     ]
    }
   ],
   "source": [
    "#3.0 slimrpp\n",
    "\n",
    "searcher = LuceneImpactSearcher('autodl-tmp/msmarco-v1-passage.slimr-pp','autodl-tmp/slimr-pp-msmarco-passage')\n",
    "\n",
    "with open('dl19_slimrpp', 'w')  as f:\n",
    "    for i in range(len(dl19_topics)):\n",
    "        qid=dl19_topics[i][0]\n",
    "        question=dl19_topics[i][1]\n",
    "        hits = searcher.search(question, k=1000)\n",
    "        rank = 0\n",
    "        for hit in hits:\n",
    "            rank += 1\n",
    "            f.write(f'{qid} Q0 {hit.docid} {rank} {hit.score} rank\\n')\n",
    "\n",
    "!python -m pyserini.eval.trec_eval -c -l 2 -m map dl19-passage dl19_slimrpp\n",
    "!python -m pyserini.eval.trec_eval -c -m ndcg_cut.10 dl19-passage dl19_slimrpp\n",
    "!python -m pyserini.eval.trec_eval -c -l 2 -m recall.1000 dl19-passage dl19_slimrpp"
   ]
  },
  {
   "cell_type": "code",
   "execution_count": 2,
   "id": "72284b95-8fed-46b7-aaeb-72b20c5f74e6",
   "metadata": {},
   "outputs": [
    {
     "name": "stderr",
     "output_type": "stream",
     "text": [
      "Dec 15, 2024 9:49:21 PM org.apache.lucene.store.MemorySegmentIndexInputProvider <init>\n",
      "INFO: Using MemorySegmentIndexInput with Java 21; to disable start with -Dorg.apache.lucene.store.MMapDirectory.enableMemorySegments=false\n",
      "/root/miniconda3/lib/python3.10/site-packages/torch/_utils.py:831: UserWarning: TypedStorage is deprecated. It will be removed in the future and UntypedStorage will be the only storage class. This should only matter to you if you are using storages directly.  To access UntypedStorage directly, use tensor.untyped_storage() instead of tensor.storage()\n",
      "  return self.fget.__get__(instance, owner)()\n",
      "/root/miniconda3/lib/python3.10/site-packages/transformers/tokenization_utils_base.py:1601: FutureWarning: `clean_up_tokenization_spaces` was not set. It will be set to `True` by default. This behavior will be depracted in transformers v4.45, and will be then set to `False` by default. For more details check this issue: https://github.com/huggingface/transformers/issues/31884\n",
      "  warnings.warn(\n",
      "huggingface/tokenizers: The current process just got forked, after parallelism has already been used. Disabling parallelism to avoid deadlocks...\n",
      "To disable this warning, you can either:\n",
      "\t- Avoid using `tokenizers` before the fork if possible\n",
      "\t- Explicitly set the environment variable TOKENIZERS_PARALLELISM=(true | false)\n"
     ]
    },
    {
     "name": "stdout",
     "output_type": "stream",
     "text": [
      "WARNING: Using incubator modules: jdk.incubator.vector\n",
      "Downloading https://search.maven.org/remotecontent?filepath=uk/ac/gla/dcs/terrierteam/jtreceval/0.0.5/jtreceval-0.0.5-jar-with-dependencies.jar to /root/.cache/pyserini/eval/jtreceval-0.0.5-jar-with-dependencies.jar...\n",
      "/root/.cache/pyserini/eval/jtreceval-0.0.5-jar-with-dependencies.jar already exists!\n",
      "Skipping download.\n",
      "Running command: ['java', '-jar', '/root/.cache/pyserini/eval/jtreceval-0.0.5-jar-with-dependencies.jar', '-c', '-l', '2', '-m', 'map', '/root/.cache/pyserini/topics-and-qrels/qrels.dl19-passage.txt', 'dl19_slimrpp_Exp4Fuse']\n",
      "Results:\n",
      "map                   \tall\t0.5047\n"
     ]
    },
    {
     "name": "stderr",
     "output_type": "stream",
     "text": [
      "huggingface/tokenizers: The current process just got forked, after parallelism has already been used. Disabling parallelism to avoid deadlocks...\n",
      "To disable this warning, you can either:\n",
      "\t- Avoid using `tokenizers` before the fork if possible\n",
      "\t- Explicitly set the environment variable TOKENIZERS_PARALLELISM=(true | false)\n"
     ]
    },
    {
     "name": "stdout",
     "output_type": "stream",
     "text": [
      "WARNING: Using incubator modules: jdk.incubator.vector\n",
      "Downloading https://search.maven.org/remotecontent?filepath=uk/ac/gla/dcs/terrierteam/jtreceval/0.0.5/jtreceval-0.0.5-jar-with-dependencies.jar to /root/.cache/pyserini/eval/jtreceval-0.0.5-jar-with-dependencies.jar...\n",
      "/root/.cache/pyserini/eval/jtreceval-0.0.5-jar-with-dependencies.jar already exists!\n",
      "Skipping download.\n",
      "Running command: ['java', '-jar', '/root/.cache/pyserini/eval/jtreceval-0.0.5-jar-with-dependencies.jar', '-c', '-m', 'ndcg_cut.10', '/root/.cache/pyserini/topics-and-qrels/qrels.dl19-passage.txt', 'dl19_slimrpp_Exp4Fuse']\n",
      "Results:\n",
      "ndcg_cut_10           \tall\t0.7638\n"
     ]
    },
    {
     "name": "stderr",
     "output_type": "stream",
     "text": [
      "huggingface/tokenizers: The current process just got forked, after parallelism has already been used. Disabling parallelism to avoid deadlocks...\n",
      "To disable this warning, you can either:\n",
      "\t- Avoid using `tokenizers` before the fork if possible\n",
      "\t- Explicitly set the environment variable TOKENIZERS_PARALLELISM=(true | false)\n"
     ]
    },
    {
     "name": "stdout",
     "output_type": "stream",
     "text": [
      "WARNING: Using incubator modules: jdk.incubator.vector\n",
      "Downloading https://search.maven.org/remotecontent?filepath=uk/ac/gla/dcs/terrierteam/jtreceval/0.0.5/jtreceval-0.0.5-jar-with-dependencies.jar to /root/.cache/pyserini/eval/jtreceval-0.0.5-jar-with-dependencies.jar...\n",
      "/root/.cache/pyserini/eval/jtreceval-0.0.5-jar-with-dependencies.jar already exists!\n",
      "Skipping download.\n",
      "Running command: ['java', '-jar', '/root/.cache/pyserini/eval/jtreceval-0.0.5-jar-with-dependencies.jar', '-c', '-l', '2', '-m', 'recall.1000', '/root/.cache/pyserini/topics-and-qrels/qrels.dl19-passage.txt', 'dl19_slimrpp_Exp4Fuse']\n",
      "Results:\n",
      "recall_1000           \tall\t0.8717\n"
     ]
    }
   ],
   "source": [
    "#3.1 slimrpp+Exp4Fuse\n",
    "\n",
    "searcher = LuceneImpactSearcher('autodl-tmp/msmarco-v1-passage.slimr-pp','autodl-tmp/slimr-pp-msmarco-passage')\n",
    "\n",
    "with open('dl19_slimrpp_hy', 'w')  as f:\n",
    "    for i in range(len(dl19_hy)):\n",
    "        qid=dl19_hy[i][0]\n",
    "        question=dl19_hy[i][1]+'.'\n",
    "        question=question*5\n",
    "        question=question+dl19_hy[i][2]\n",
    "        hits = searcher.search(question, k=1000)\n",
    "        rank = 0\n",
    "        for hit in hits:\n",
    "            rank += 1\n",
    "            f.write(f'{qid} Q0 {hit.docid} {rank} {hit.score} rank\\n')\n",
    "\n",
    "with open('dl19_slimrpp_hy', 'r') as file:\n",
    "    hy1 = file.readlines()        \n",
    "hy=[[int(x.split()[0]),x.split()[1],int(x.split()[2]),int(x.split()[3]),x.split()[4],x.split()[5]] for x in hy1]\n",
    "\n",
    "with open('dl19_slimrpp', 'r') as file:\n",
    "    ori1 = file.readlines()\n",
    "ori=[[int(x.split()[0]),x.split()[1],int(x.split()[2]),int(x.split()[3]),x.split()[4],x.split()[5]] for x in ori1]\n",
    "\n",
    "ratio=60\n",
    "\n",
    "with open('dl19_slimrpp_Exp4Fuse', 'w')  as f:\n",
    "    for i in range(len(dl19_topics)):\n",
    "        dictTem={}\n",
    "        for j in range(1000*i,1000*(i+1)):\n",
    "            if dl19_topics[i][0]==hy[j][0]:\n",
    "                try:\n",
    "                    dictTem[hy[j][2]]['score1']=1/(ratio+hy[j][3])\n",
    "                except KeyError:\n",
    "                    dictTem[hy[j][2]]={}\n",
    "                    dictTem[hy[j][2]]['score1']=1/(ratio+hy[j][3])              \n",
    "        for j in range(len(ori)):\n",
    "            if dl19_topics[i][0]==ori[j][0]:\n",
    "                try:\n",
    "                    dictTem[ori[j][2]]['score3']=1/(ratio+ori[j][3])\n",
    "                except KeyError:\n",
    "                    dictTem[ori[j][2]]={}\n",
    "                    dictTem[ori[j][2]]['score3']=1/(ratio+ori[j][3])  \n",
    "        for passage in dictTem.keys():\n",
    "            num=len(dictTem[passage])/10+1\n",
    "            score_sum=0\n",
    "            for scores in dictTem[passage].keys():\n",
    "                score_sum+=dictTem[passage][scores]\n",
    "            dictTem[passage]=num*score_sum\n",
    "        rank=0\n",
    "        for key, value in sorted(dictTem.items(), key=lambda item: item[1],reverse=True):   \n",
    "            rank+=1\n",
    "            if rank<=1000:\n",
    "                topicnum=dl19_topics[i][0]\n",
    "                f.write(f'{topicnum} Q0 {key} {rank} {value} rank\\n')\n",
    "\n",
    "!python -m pyserini.eval.trec_eval -c -l 2 -m map dl19-passage dl19_slimrpp_Exp4Fuse\n",
    "!python -m pyserini.eval.trec_eval -c -m ndcg_cut.10 dl19-passage dl19_slimrpp_Exp4Fuse\n",
    "!python -m pyserini.eval.trec_eval -c -l 2 -m recall.1000 dl19-passage dl19_slimrpp_Exp4Fuse"
   ]
  },
  {
   "cell_type": "code",
   "execution_count": 8,
   "id": "c06afe85-200b-45c4-b45a-443068b64234",
   "metadata": {},
   "outputs": [
    {
     "name": "stderr",
     "output_type": "stream",
     "text": [
      "huggingface/tokenizers: The current process just got forked, after parallelism has already been used. Disabling parallelism to avoid deadlocks...\n",
      "To disable this warning, you can either:\n",
      "\t- Avoid using `tokenizers` before the fork if possible\n",
      "\t- Explicitly set the environment variable TOKENIZERS_PARALLELISM=(true | false)\n"
     ]
    },
    {
     "name": "stdout",
     "output_type": "stream",
     "text": [
      "WARNING: Using incubator modules: jdk.incubator.vector\n",
      "Downloading https://search.maven.org/remotecontent?filepath=uk/ac/gla/dcs/terrierteam/jtreceval/0.0.5/jtreceval-0.0.5-jar-with-dependencies.jar to /root/.cache/pyserini/eval/jtreceval-0.0.5-jar-with-dependencies.jar...\n",
      "/root/.cache/pyserini/eval/jtreceval-0.0.5-jar-with-dependencies.jar already exists!\n",
      "Skipping download.\n",
      "Running command: ['java', '-jar', '/root/.cache/pyserini/eval/jtreceval-0.0.5-jar-with-dependencies.jar', '-c', '-l', '2', '-m', 'map', '/root/.cache/pyserini/topics-and-qrels/qrels.dl19-passage.txt', 'dl19_splade_ed']\n",
      "Results:\n",
      "map                   \tall\t0.5050\n"
     ]
    },
    {
     "name": "stderr",
     "output_type": "stream",
     "text": [
      "huggingface/tokenizers: The current process just got forked, after parallelism has already been used. Disabling parallelism to avoid deadlocks...\n",
      "To disable this warning, you can either:\n",
      "\t- Avoid using `tokenizers` before the fork if possible\n",
      "\t- Explicitly set the environment variable TOKENIZERS_PARALLELISM=(true | false)\n"
     ]
    },
    {
     "name": "stdout",
     "output_type": "stream",
     "text": [
      "WARNING: Using incubator modules: jdk.incubator.vector\n",
      "Downloading https://search.maven.org/remotecontent?filepath=uk/ac/gla/dcs/terrierteam/jtreceval/0.0.5/jtreceval-0.0.5-jar-with-dependencies.jar to /root/.cache/pyserini/eval/jtreceval-0.0.5-jar-with-dependencies.jar...\n",
      "/root/.cache/pyserini/eval/jtreceval-0.0.5-jar-with-dependencies.jar already exists!\n",
      "Skipping download.\n",
      "Running command: ['java', '-jar', '/root/.cache/pyserini/eval/jtreceval-0.0.5-jar-with-dependencies.jar', '-c', '-m', 'ndcg_cut.10', '/root/.cache/pyserini/topics-and-qrels/qrels.dl19-passage.txt', 'dl19_splade_ed']\n",
      "Results:\n",
      "ndcg_cut_10           \tall\t0.7308\n"
     ]
    },
    {
     "name": "stderr",
     "output_type": "stream",
     "text": [
      "huggingface/tokenizers: The current process just got forked, after parallelism has already been used. Disabling parallelism to avoid deadlocks...\n",
      "To disable this warning, you can either:\n",
      "\t- Avoid using `tokenizers` before the fork if possible\n",
      "\t- Explicitly set the environment variable TOKENIZERS_PARALLELISM=(true | false)\n"
     ]
    },
    {
     "name": "stdout",
     "output_type": "stream",
     "text": [
      "WARNING: Using incubator modules: jdk.incubator.vector\n",
      "Downloading https://search.maven.org/remotecontent?filepath=uk/ac/gla/dcs/terrierteam/jtreceval/0.0.5/jtreceval-0.0.5-jar-with-dependencies.jar to /root/.cache/pyserini/eval/jtreceval-0.0.5-jar-with-dependencies.jar...\n",
      "/root/.cache/pyserini/eval/jtreceval-0.0.5-jar-with-dependencies.jar already exists!\n",
      "Skipping download.\n",
      "Running command: ['java', '-jar', '/root/.cache/pyserini/eval/jtreceval-0.0.5-jar-with-dependencies.jar', '-c', '-l', '2', '-m', 'recall.1000', '/root/.cache/pyserini/topics-and-qrels/qrels.dl19-passage.txt', 'dl19_splade_ed']\n",
      "Results:\n",
      "recall_1000           \tall\t0.8728\n"
     ]
    }
   ],
   "source": [
    "#4.0 splade_ed\n",
    "\n",
    "searcher = LuceneImpactSearcher('autodl-tmp/msmarco-v1-passage.splade-pp-ed','autodl-tmp/splade-cocondenser-ensembledistil')\n",
    "\n",
    "with open('dl19_splade_ed', 'w')  as f:\n",
    "    for i in range(len(dl19_topics)):\n",
    "        qid=dl19_topics[i][0]\n",
    "        question=dl19_topics[i][1]\n",
    "        hits = searcher.search(question, k=1000)\n",
    "        rank = 0\n",
    "        for hit in hits:\n",
    "            rank += 1\n",
    "            f.write(f'{qid} Q0 {hit.docid} {rank} {hit.score} rank\\n')\n",
    "\n",
    "!python -m pyserini.eval.trec_eval -c -l 2 -m map dl19-passage dl19_splade_ed\n",
    "!python -m pyserini.eval.trec_eval -c -m ndcg_cut.10 dl19-passage dl19_splade_ed\n",
    "!python -m pyserini.eval.trec_eval -c -l 2 -m recall.1000 dl19-passage dl19_splade_ed"
   ]
  },
  {
   "cell_type": "code",
   "execution_count": 9,
   "id": "5a0d0f65-3944-46b8-9915-226be366c027",
   "metadata": {},
   "outputs": [
    {
     "name": "stderr",
     "output_type": "stream",
     "text": [
      "huggingface/tokenizers: The current process just got forked, after parallelism has already been used. Disabling parallelism to avoid deadlocks...\n",
      "To disable this warning, you can either:\n",
      "\t- Avoid using `tokenizers` before the fork if possible\n",
      "\t- Explicitly set the environment variable TOKENIZERS_PARALLELISM=(true | false)\n"
     ]
    },
    {
     "name": "stdout",
     "output_type": "stream",
     "text": [
      "WARNING: Using incubator modules: jdk.incubator.vector\n",
      "Downloading https://search.maven.org/remotecontent?filepath=uk/ac/gla/dcs/terrierteam/jtreceval/0.0.5/jtreceval-0.0.5-jar-with-dependencies.jar to /root/.cache/pyserini/eval/jtreceval-0.0.5-jar-with-dependencies.jar...\n",
      "/root/.cache/pyserini/eval/jtreceval-0.0.5-jar-with-dependencies.jar already exists!\n",
      "Skipping download.\n",
      "Running command: ['java', '-jar', '/root/.cache/pyserini/eval/jtreceval-0.0.5-jar-with-dependencies.jar', '-c', '-l', '2', '-m', 'map', '/root/.cache/pyserini/topics-and-qrels/qrels.dl19-passage.txt', 'dl19_splade_ed_Exp4Fuse']\n",
      "Results:\n",
      "map                   \tall\t0.5666\n"
     ]
    },
    {
     "name": "stderr",
     "output_type": "stream",
     "text": [
      "huggingface/tokenizers: The current process just got forked, after parallelism has already been used. Disabling parallelism to avoid deadlocks...\n",
      "To disable this warning, you can either:\n",
      "\t- Avoid using `tokenizers` before the fork if possible\n",
      "\t- Explicitly set the environment variable TOKENIZERS_PARALLELISM=(true | false)\n"
     ]
    },
    {
     "name": "stdout",
     "output_type": "stream",
     "text": [
      "WARNING: Using incubator modules: jdk.incubator.vector\n",
      "Downloading https://search.maven.org/remotecontent?filepath=uk/ac/gla/dcs/terrierteam/jtreceval/0.0.5/jtreceval-0.0.5-jar-with-dependencies.jar to /root/.cache/pyserini/eval/jtreceval-0.0.5-jar-with-dependencies.jar...\n",
      "/root/.cache/pyserini/eval/jtreceval-0.0.5-jar-with-dependencies.jar already exists!\n",
      "Skipping download.\n",
      "Running command: ['java', '-jar', '/root/.cache/pyserini/eval/jtreceval-0.0.5-jar-with-dependencies.jar', '-c', '-m', 'ndcg_cut.10', '/root/.cache/pyserini/topics-and-qrels/qrels.dl19-passage.txt', 'dl19_splade_ed_Exp4Fuse']\n",
      "Results:\n",
      "ndcg_cut_10           \tall\t0.7753\n"
     ]
    },
    {
     "name": "stderr",
     "output_type": "stream",
     "text": [
      "huggingface/tokenizers: The current process just got forked, after parallelism has already been used. Disabling parallelism to avoid deadlocks...\n",
      "To disable this warning, you can either:\n",
      "\t- Avoid using `tokenizers` before the fork if possible\n",
      "\t- Explicitly set the environment variable TOKENIZERS_PARALLELISM=(true | false)\n"
     ]
    },
    {
     "name": "stdout",
     "output_type": "stream",
     "text": [
      "WARNING: Using incubator modules: jdk.incubator.vector\n",
      "Downloading https://search.maven.org/remotecontent?filepath=uk/ac/gla/dcs/terrierteam/jtreceval/0.0.5/jtreceval-0.0.5-jar-with-dependencies.jar to /root/.cache/pyserini/eval/jtreceval-0.0.5-jar-with-dependencies.jar...\n",
      "/root/.cache/pyserini/eval/jtreceval-0.0.5-jar-with-dependencies.jar already exists!\n",
      "Skipping download.\n",
      "Running command: ['java', '-jar', '/root/.cache/pyserini/eval/jtreceval-0.0.5-jar-with-dependencies.jar', '-c', '-l', '2', '-m', 'recall.1000', '/root/.cache/pyserini/topics-and-qrels/qrels.dl19-passage.txt', 'dl19_splade_ed_Exp4Fuse']\n",
      "Results:\n",
      "recall_1000           \tall\t0.9291\n"
     ]
    }
   ],
   "source": [
    "#4.1 splade_ed+Exp4Fuse\n",
    "\n",
    "searcher = LuceneImpactSearcher('autodl-tmp/msmarco-v1-passage.splade-pp-ed','autodl-tmp/splade-cocondenser-ensembledistil')\n",
    "\n",
    "\n",
    "with open('dl19_splade_ed_hy', 'w')  as f:\n",
    "    for i in range(len(dl19_hy)):\n",
    "        qid=dl19_hy[i][0]\n",
    "        question=dl19_hy[i][1]+'.'\n",
    "        question=question*5\n",
    "        question=question+dl19_hy[i][2]\n",
    "        hits = searcher.search(question, k=1000)\n",
    "        rank = 0\n",
    "        for hit in hits:\n",
    "            rank += 1\n",
    "            f.write(f'{qid} Q0 {hit.docid} {rank} {hit.score} rank\\n')\n",
    "\n",
    "    \n",
    "with open('dl19_splade_ed_hy', 'r') as file:\n",
    "    hy1 = file.readlines()       \n",
    "hy=[[int(x.split()[0]),x.split()[1],int(x.split()[2]),int(x.split()[3]),x.split()[4],x.split()[5]] for x in hy1]\n",
    "\n",
    "\n",
    "with open('dl19_splade_ed', 'r') as file:\n",
    "    ori1 = file.readlines()\n",
    "ori=[[int(x.split()[0]),x.split()[1],int(x.split()[2]),int(x.split()[3]),x.split()[4],x.split()[5]] for x in ori1]\n",
    "\n",
    "with open('dl19_splade_ed_Exp4Fuse', 'w')  as f:\n",
    "    for i in range(len(dl19_topics)):\n",
    "        dictTem={}\n",
    "        for j in range(len(hy)):\n",
    "            if dl19_topics[i][0]==hy[j][0]:\n",
    "                try:\n",
    "                    dictTem[hy[j][2]]['score1']=1/(ratio+hy[j][3])\n",
    "                except KeyError:\n",
    "                    dictTem[hy[j][2]]={}\n",
    "                    dictTem[hy[j][2]]['score1']=1/(ratio+hy[j][3])\n",
    "        for j in range(len(ori)):\n",
    "            if dl19_topics[i][0]==ori[j][0]:\n",
    "                try:\n",
    "                    dictTem[ori[j][2]]['score3']=1/(ratio+ori[j][3])\n",
    "                except KeyError:\n",
    "                    dictTem[ori[j][2]]={}\n",
    "                    dictTem[ori[j][2]]['score3']=1/(ratio+ori[j][3])  \n",
    "        for passage in dictTem.keys():\n",
    "            num=len(dictTem[passage])/10+1\n",
    "            score_sum=0\n",
    "            for scores in dictTem[passage].keys():\n",
    "                score_sum+=dictTem[passage][scores]\n",
    "            dictTem[passage]=num*score_sum\n",
    "        rank=0\n",
    "        for key, value in sorted(dictTem.items(), key=lambda item: item[1],reverse=True):   \n",
    "            rank+=1\n",
    "            if rank<=1000:\n",
    "                passageinfo=[dl19_hy[i][0],'Q0',key,rank,value,'rank']\n",
    "                topicnum=dl19_topics[i][0]\n",
    "                f.write(f'{topicnum} Q0 {key} {rank} {value} rank\\n')\n",
    "\n",
    "!python -m pyserini.eval.trec_eval -c -l 2 -m map dl19-passage dl19_splade_ed_Exp4Fuse\n",
    "!python -m pyserini.eval.trec_eval -c -m ndcg_cut.10 dl19-passage dl19_splade_ed_Exp4Fuse\n",
    "!python -m pyserini.eval.trec_eval -c -l 2 -m recall.1000 dl19-passage dl19_splade_ed_Exp4Fuse\n",
    "   "
   ]
  },
  {
   "cell_type": "code",
   "execution_count": 10,
   "id": "f0bab231-eec7-48e8-b0c6-47a00048ed0c",
   "metadata": {},
   "outputs": [
    {
     "name": "stderr",
     "output_type": "stream",
     "text": [
      "huggingface/tokenizers: The current process just got forked, after parallelism has already been used. Disabling parallelism to avoid deadlocks...\n",
      "To disable this warning, you can either:\n",
      "\t- Avoid using `tokenizers` before the fork if possible\n",
      "\t- Explicitly set the environment variable TOKENIZERS_PARALLELISM=(true | false)\n"
     ]
    },
    {
     "name": "stdout",
     "output_type": "stream",
     "text": [
      "WARNING: Using incubator modules: jdk.incubator.vector\n",
      "Downloading https://search.maven.org/remotecontent?filepath=uk/ac/gla/dcs/terrierteam/jtreceval/0.0.5/jtreceval-0.0.5-jar-with-dependencies.jar to /root/.cache/pyserini/eval/jtreceval-0.0.5-jar-with-dependencies.jar...\n",
      "/root/.cache/pyserini/eval/jtreceval-0.0.5-jar-with-dependencies.jar already exists!\n",
      "Skipping download.\n",
      "Running command: ['java', '-jar', '/root/.cache/pyserini/eval/jtreceval-0.0.5-jar-with-dependencies.jar', '-c', '-l', '2', '-m', 'map', '/root/.cache/pyserini/topics-and-qrels/qrels.dl19-passage.txt', 'dl19_splade_sd']\n",
      "Results:\n",
      "map                   \tall\t0.4998\n"
     ]
    },
    {
     "name": "stderr",
     "output_type": "stream",
     "text": [
      "huggingface/tokenizers: The current process just got forked, after parallelism has already been used. Disabling parallelism to avoid deadlocks...\n",
      "To disable this warning, you can either:\n",
      "\t- Avoid using `tokenizers` before the fork if possible\n",
      "\t- Explicitly set the environment variable TOKENIZERS_PARALLELISM=(true | false)\n"
     ]
    },
    {
     "name": "stdout",
     "output_type": "stream",
     "text": [
      "WARNING: Using incubator modules: jdk.incubator.vector\n",
      "Downloading https://search.maven.org/remotecontent?filepath=uk/ac/gla/dcs/terrierteam/jtreceval/0.0.5/jtreceval-0.0.5-jar-with-dependencies.jar to /root/.cache/pyserini/eval/jtreceval-0.0.5-jar-with-dependencies.jar...\n",
      "/root/.cache/pyserini/eval/jtreceval-0.0.5-jar-with-dependencies.jar already exists!\n",
      "Skipping download.\n",
      "Running command: ['java', '-jar', '/root/.cache/pyserini/eval/jtreceval-0.0.5-jar-with-dependencies.jar', '-c', '-m', 'ndcg_cut.10', '/root/.cache/pyserini/topics-and-qrels/qrels.dl19-passage.txt', 'dl19_splade_sd']\n",
      "Results:\n",
      "ndcg_cut_10           \tall\t0.7358\n"
     ]
    },
    {
     "name": "stderr",
     "output_type": "stream",
     "text": [
      "huggingface/tokenizers: The current process just got forked, after parallelism has already been used. Disabling parallelism to avoid deadlocks...\n",
      "To disable this warning, you can either:\n",
      "\t- Avoid using `tokenizers` before the fork if possible\n",
      "\t- Explicitly set the environment variable TOKENIZERS_PARALLELISM=(true | false)\n"
     ]
    },
    {
     "name": "stdout",
     "output_type": "stream",
     "text": [
      "WARNING: Using incubator modules: jdk.incubator.vector\n",
      "Downloading https://search.maven.org/remotecontent?filepath=uk/ac/gla/dcs/terrierteam/jtreceval/0.0.5/jtreceval-0.0.5-jar-with-dependencies.jar to /root/.cache/pyserini/eval/jtreceval-0.0.5-jar-with-dependencies.jar...\n",
      "/root/.cache/pyserini/eval/jtreceval-0.0.5-jar-with-dependencies.jar already exists!\n",
      "Skipping download.\n",
      "Running command: ['java', '-jar', '/root/.cache/pyserini/eval/jtreceval-0.0.5-jar-with-dependencies.jar', '-c', '-l', '2', '-m', 'recall.1000', '/root/.cache/pyserini/topics-and-qrels/qrels.dl19-passage.txt', 'dl19_splade_sd']\n",
      "Results:\n",
      "recall_1000           \tall\t0.8761\n"
     ]
    }
   ],
   "source": [
    "#5.0 splade_sd\n",
    "\n",
    "searcher = LuceneImpactSearcher('autodl-tmp/msmarco-v1-passage.splade-pp-sd','autodl-tmp/splade-cocondenser-selfdistil')\n",
    "\n",
    "with open('dl19_splade_sd', 'w')  as f:\n",
    "    for i in range(len(dl19_topics)):\n",
    "        qid=dl19_topics[i][0]\n",
    "        question=dl19_topics[i][1]\n",
    "        hits = searcher.search(question, k=1000)\n",
    "        rank = 0\n",
    "        for hit in hits:\n",
    "            rank += 1\n",
    "            f.write(f'{qid} Q0 {hit.docid} {rank} {hit.score} rank\\n')\n",
    "\n",
    "!python -m pyserini.eval.trec_eval -c -l 2 -m map dl19-passage dl19_splade_sd\n",
    "!python -m pyserini.eval.trec_eval -c -m ndcg_cut.10 dl19-passage dl19_splade_sd\n",
    "!python -m pyserini.eval.trec_eval -c -l 2 -m recall.1000 dl19-passage dl19_splade_sd\n"
   ]
  },
  {
   "cell_type": "code",
   "execution_count": 11,
   "id": "8c31aa96-be4e-43ff-8dac-3585dfb958f5",
   "metadata": {},
   "outputs": [
    {
     "name": "stderr",
     "output_type": "stream",
     "text": [
      "huggingface/tokenizers: The current process just got forked, after parallelism has already been used. Disabling parallelism to avoid deadlocks...\n",
      "To disable this warning, you can either:\n",
      "\t- Avoid using `tokenizers` before the fork if possible\n",
      "\t- Explicitly set the environment variable TOKENIZERS_PARALLELISM=(true | false)\n"
     ]
    },
    {
     "name": "stdout",
     "output_type": "stream",
     "text": [
      "WARNING: Using incubator modules: jdk.incubator.vector\n",
      "Downloading https://search.maven.org/remotecontent?filepath=uk/ac/gla/dcs/terrierteam/jtreceval/0.0.5/jtreceval-0.0.5-jar-with-dependencies.jar to /root/.cache/pyserini/eval/jtreceval-0.0.5-jar-with-dependencies.jar...\n",
      "/root/.cache/pyserini/eval/jtreceval-0.0.5-jar-with-dependencies.jar already exists!\n",
      "Skipping download.\n",
      "Running command: ['java', '-jar', '/root/.cache/pyserini/eval/jtreceval-0.0.5-jar-with-dependencies.jar', '-c', '-l', '2', '-m', 'map', '/root/.cache/pyserini/topics-and-qrels/qrels.dl19-passage.txt', 'dl19_splade_sd_Exp4Fuse']\n",
      "Results:\n",
      "map                   \tall\t0.5657\n"
     ]
    },
    {
     "name": "stderr",
     "output_type": "stream",
     "text": [
      "huggingface/tokenizers: The current process just got forked, after parallelism has already been used. Disabling parallelism to avoid deadlocks...\n",
      "To disable this warning, you can either:\n",
      "\t- Avoid using `tokenizers` before the fork if possible\n",
      "\t- Explicitly set the environment variable TOKENIZERS_PARALLELISM=(true | false)\n"
     ]
    },
    {
     "name": "stdout",
     "output_type": "stream",
     "text": [
      "WARNING: Using incubator modules: jdk.incubator.vector\n",
      "Downloading https://search.maven.org/remotecontent?filepath=uk/ac/gla/dcs/terrierteam/jtreceval/0.0.5/jtreceval-0.0.5-jar-with-dependencies.jar to /root/.cache/pyserini/eval/jtreceval-0.0.5-jar-with-dependencies.jar...\n",
      "/root/.cache/pyserini/eval/jtreceval-0.0.5-jar-with-dependencies.jar already exists!\n",
      "Skipping download.\n",
      "Running command: ['java', '-jar', '/root/.cache/pyserini/eval/jtreceval-0.0.5-jar-with-dependencies.jar', '-c', '-m', 'ndcg_cut.10', '/root/.cache/pyserini/topics-and-qrels/qrels.dl19-passage.txt', 'dl19_splade_sd_Exp4Fuse']\n",
      "Results:\n",
      "ndcg_cut_10           \tall\t0.7710\n"
     ]
    },
    {
     "name": "stderr",
     "output_type": "stream",
     "text": [
      "huggingface/tokenizers: The current process just got forked, after parallelism has already been used. Disabling parallelism to avoid deadlocks...\n",
      "To disable this warning, you can either:\n",
      "\t- Avoid using `tokenizers` before the fork if possible\n",
      "\t- Explicitly set the environment variable TOKENIZERS_PARALLELISM=(true | false)\n"
     ]
    },
    {
     "name": "stdout",
     "output_type": "stream",
     "text": [
      "WARNING: Using incubator modules: jdk.incubator.vector\n",
      "Downloading https://search.maven.org/remotecontent?filepath=uk/ac/gla/dcs/terrierteam/jtreceval/0.0.5/jtreceval-0.0.5-jar-with-dependencies.jar to /root/.cache/pyserini/eval/jtreceval-0.0.5-jar-with-dependencies.jar...\n",
      "/root/.cache/pyserini/eval/jtreceval-0.0.5-jar-with-dependencies.jar already exists!\n",
      "Skipping download.\n",
      "Running command: ['java', '-jar', '/root/.cache/pyserini/eval/jtreceval-0.0.5-jar-with-dependencies.jar', '-c', '-l', '2', '-m', 'recall.1000', '/root/.cache/pyserini/topics-and-qrels/qrels.dl19-passage.txt', 'dl19_splade_sd_Exp4Fuse']\n",
      "Results:\n",
      "recall_1000           \tall\t0.9394\n"
     ]
    }
   ],
   "source": [
    "#5.1 splade_sd+Exp4Fuse\n",
    "\n",
    "searcher = LuceneImpactSearcher('autodl-tmp/msmarco-v1-passage.splade-pp-sd','autodl-tmp/splade-cocondenser-selfdistil')\n",
    "\n",
    "with open('dl19_splade_sd_hy', 'w')  as f:\n",
    "    for i in range(len(dl19_hy)):\n",
    "        qid=dl19_hy[i][0]\n",
    "        question=dl19_hy[i][1]+'.'\n",
    "        question=question*5\n",
    "        question=question+dl19_hy[i][2]\n",
    "        hits = searcher.search(question, k=1000)\n",
    "        rank = 0\n",
    "        for hit in hits:\n",
    "            rank += 1\n",
    "            f.write(f'{qid} Q0 {hit.docid} {rank} {hit.score} rank\\n')\n",
    "    \n",
    "with open('dl19_splade_sd_hy', 'r') as file:\n",
    "    hy1 = file.readlines()    \n",
    "hy=[[int(x.split()[0]),x.split()[1],int(x.split()[2]),int(x.split()[3]),x.split()[4],x.split()[5]] for x in hy1]\n",
    "\n",
    "with open('dl19_splade_sd', 'r') as file:\n",
    "    ori1 = file.readlines()\n",
    "ori=[[int(x.split()[0]),x.split()[1],int(x.split()[2]),int(x.split()[3]),x.split()[4],x.split()[5]] for x in ori1]\n",
    "\n",
    "with open('dl19_splade_sd_Exp4Fuse', 'w')  as f:\n",
    "    for i in range(len(dl19_topics)):\n",
    "        dictTem={}\n",
    "        for j in range(len(hy)):\n",
    "            if dl19_topics[i][0]==hy[j][0]:\n",
    "                try:\n",
    "                    dictTem[hy[j][2]]['score1']=1/(ratio+hy[j][3])\n",
    "                except KeyError:\n",
    "                    dictTem[hy[j][2]]={}\n",
    "                    dictTem[hy[j][2]]['score1']=1/(ratio+hy[j][3])             \n",
    "        for j in range(len(ori)):\n",
    "            if dl19_topics[i][0]==ori[j][0]:\n",
    "                try:\n",
    "                    dictTem[ori[j][2]]['score3']=1/(ratio+ori[j][3])\n",
    "                except KeyError:\n",
    "                    dictTem[ori[j][2]]={}\n",
    "                    dictTem[ori[j][2]]['score3']=1/(ratio+ori[j][3])  \n",
    "        for passage in dictTem.keys():\n",
    "            num=len(dictTem[passage])/10+1\n",
    "            score_sum=0\n",
    "            for scores in dictTem[passage].keys():\n",
    "                score_sum+=dictTem[passage][scores]\n",
    "            dictTem[passage]=num*score_sum\n",
    "        rank=0\n",
    "        for key, value in sorted(dictTem.items(), key=lambda item: item[1],reverse=True):   \n",
    "            rank+=1\n",
    "            if rank<=1000: \n",
    "                topicnum=dl19_topics[i][0]\n",
    "                f.write(f'{topicnum} Q0 {key} {rank} {value} rank\\n')\n",
    "\n",
    "!python -m pyserini.eval.trec_eval -c -l 2 -m map dl19-passage dl19_splade_sd_Exp4Fuse\n",
    "!python -m pyserini.eval.trec_eval -c -m ndcg_cut.10 dl19-passage dl19_splade_sd_Exp4Fuse\n",
    "!python -m pyserini.eval.trec_eval -c -l 2 -m recall.1000 dl19-passage dl19_splade_sd_Exp4Fuse\n",
    "   "
   ]
  }
 ],
 "metadata": {
  "kernelspec": {
   "display_name": "Python 3 (ipykernel)",
   "language": "python",
   "name": "python3"
  },
  "language_info": {
   "codemirror_mode": {
    "name": "ipython",
    "version": 3
   },
   "file_extension": ".py",
   "mimetype": "text/x-python",
   "name": "python",
   "nbconvert_exporter": "python",
   "pygments_lexer": "ipython3",
   "version": "3.10.8"
  }
 },
 "nbformat": 4,
 "nbformat_minor": 5
}
